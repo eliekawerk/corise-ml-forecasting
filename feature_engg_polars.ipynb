{
 "cells": [
  {
   "cell_type": "code",
   "execution_count": 1,
   "metadata": {},
   "outputs": [],
   "source": [
    "import pandas as pd\n",
    "import polars as pl\n",
    "import numpy as np"
   ]
  },
  {
   "cell_type": "code",
   "execution_count": 2,
   "metadata": {},
   "outputs": [],
   "source": [
    "data_path = './00_project_2/project_2_data'"
   ]
  },
  {
   "cell_type": "code",
   "execution_count": 3,
   "metadata": {},
   "outputs": [
    {
     "data": {
      "text/html": [
       "<div>\n",
       "<style scoped>\n",
       "    .dataframe tbody tr th:only-of-type {\n",
       "        vertical-align: middle;\n",
       "    }\n",
       "\n",
       "    .dataframe tbody tr th {\n",
       "        vertical-align: top;\n",
       "    }\n",
       "\n",
       "    .dataframe thead th {\n",
       "        text-align: right;\n",
       "    }\n",
       "</style>\n",
       "<table border=\"1\" class=\"dataframe\">\n",
       "  <thead>\n",
       "    <tr style=\"text-align: right;\">\n",
       "      <th></th>\n",
       "      <th></th>\n",
       "      <th>item_id</th>\n",
       "      <th>dept_id</th>\n",
       "      <th>cat_id</th>\n",
       "      <th>store_id</th>\n",
       "      <th>state_id</th>\n",
       "      <th>sales</th>\n",
       "    </tr>\n",
       "    <tr>\n",
       "      <th>date</th>\n",
       "      <th>id</th>\n",
       "      <th></th>\n",
       "      <th></th>\n",
       "      <th></th>\n",
       "      <th></th>\n",
       "      <th></th>\n",
       "      <th></th>\n",
       "    </tr>\n",
       "  </thead>\n",
       "  <tbody>\n",
       "    <tr>\n",
       "      <th rowspan=\"5\" valign=\"top\">2013-01-01</th>\n",
       "      <th>FOODS_1_004_TX_1_evaluation</th>\n",
       "      <td>FOODS_1_004</td>\n",
       "      <td>FOODS_1</td>\n",
       "      <td>FOODS</td>\n",
       "      <td>TX_1</td>\n",
       "      <td>TX</td>\n",
       "      <td>20</td>\n",
       "    </tr>\n",
       "    <tr>\n",
       "      <th>FOODS_1_004_TX_2_evaluation</th>\n",
       "      <td>FOODS_1_004</td>\n",
       "      <td>FOODS_1</td>\n",
       "      <td>FOODS</td>\n",
       "      <td>TX_2</td>\n",
       "      <td>TX</td>\n",
       "      <td>20</td>\n",
       "    </tr>\n",
       "    <tr>\n",
       "      <th>FOODS_1_004_TX_3_evaluation</th>\n",
       "      <td>FOODS_1_004</td>\n",
       "      <td>FOODS_1</td>\n",
       "      <td>FOODS</td>\n",
       "      <td>TX_3</td>\n",
       "      <td>TX</td>\n",
       "      <td>4</td>\n",
       "    </tr>\n",
       "    <tr>\n",
       "      <th>FOODS_1_005_TX_2_evaluation</th>\n",
       "      <td>FOODS_1_005</td>\n",
       "      <td>FOODS_1</td>\n",
       "      <td>FOODS</td>\n",
       "      <td>TX_2</td>\n",
       "      <td>TX</td>\n",
       "      <td>1</td>\n",
       "    </tr>\n",
       "    <tr>\n",
       "      <th>FOODS_1_009_TX_2_evaluation</th>\n",
       "      <td>FOODS_1_009</td>\n",
       "      <td>FOODS_1</td>\n",
       "      <td>FOODS</td>\n",
       "      <td>TX_2</td>\n",
       "      <td>TX</td>\n",
       "      <td>3</td>\n",
       "    </tr>\n",
       "  </tbody>\n",
       "</table>\n",
       "</div>"
      ],
      "text/plain": [
       "                                            item_id  dept_id cat_id store_id  \\\n",
       "date       id                                                                  \n",
       "2013-01-01 FOODS_1_004_TX_1_evaluation  FOODS_1_004  FOODS_1  FOODS     TX_1   \n",
       "           FOODS_1_004_TX_2_evaluation  FOODS_1_004  FOODS_1  FOODS     TX_2   \n",
       "           FOODS_1_004_TX_3_evaluation  FOODS_1_004  FOODS_1  FOODS     TX_3   \n",
       "           FOODS_1_005_TX_2_evaluation  FOODS_1_005  FOODS_1  FOODS     TX_2   \n",
       "           FOODS_1_009_TX_2_evaluation  FOODS_1_009  FOODS_1  FOODS     TX_2   \n",
       "\n",
       "                                       state_id  sales  \n",
       "date       id                                           \n",
       "2013-01-01 FOODS_1_004_TX_1_evaluation       TX     20  \n",
       "           FOODS_1_004_TX_2_evaluation       TX     20  \n",
       "           FOODS_1_004_TX_3_evaluation       TX      4  \n",
       "           FOODS_1_005_TX_2_evaluation       TX      1  \n",
       "           FOODS_1_009_TX_2_evaluation       TX      3  "
      ]
     },
     "execution_count": 3,
     "metadata": {},
     "output_type": "execute_result"
    }
   ],
   "source": [
    "data = pd.read_parquet(f'{data_path}/sales_data.parquet')\n",
    "data.head()"
   ]
  },
  {
   "cell_type": "code",
   "execution_count": 4,
   "metadata": {},
   "outputs": [],
   "source": [
    "# dir(pl.col('*'))"
   ]
  },
  {
   "cell_type": "code",
   "execution_count": 5,
   "metadata": {},
   "outputs": [],
   "source": [
    "# QUESTION: filter out products that don't have sales using cumsum\n",
    "\n",
    "data = (\n",
    "    data\n",
    "    [\n",
    "        data.\n",
    "        groupby(['date', 'id'])\n",
    "        .cumsum(numeric_only=True)\n",
    "        .sales>0\n",
    "    ]\n",
    ")"
   ]
  },
  {
   "cell_type": "code",
   "execution_count": 6,
   "metadata": {},
   "outputs": [
    {
     "data": {
      "text/plain": [
       "(3895938, 6)"
      ]
     },
     "execution_count": 6,
     "metadata": {},
     "output_type": "execute_result"
    }
   ],
   "source": [
    "data.shape"
   ]
  },
  {
   "cell_type": "code",
   "execution_count": 7,
   "metadata": {},
   "outputs": [],
   "source": [
    "df_pl = pl.from_pandas(data.reset_index())"
   ]
  },
  {
   "cell_type": "code",
   "execution_count": 8,
   "metadata": {},
   "outputs": [
    {
     "data": {
      "text/html": [
       "<div><style>\n",
       ".dataframe > thead > tr > th,\n",
       ".dataframe > tbody > tr > td {\n",
       "  text-align: right;\n",
       "}\n",
       "</style>\n",
       "<small>shape: (5, 8)</small><table border=\"1\" class=\"dataframe\"><thead><tr><th>date</th><th>id</th><th>item_id</th><th>dept_id</th><th>cat_id</th><th>store_id</th><th>state_id</th><th>sales</th></tr><tr><td>datetime[ns]</td><td>cat</td><td>str</td><td>str</td><td>str</td><td>str</td><td>str</td><td>i64</td></tr></thead><tbody><tr><td>2013-01-01 00:00:00</td><td>&quot;FOODS_1_004_TX…</td><td>&quot;FOODS_1_004&quot;</td><td>&quot;FOODS_1&quot;</td><td>&quot;FOODS&quot;</td><td>&quot;TX_1&quot;</td><td>&quot;TX&quot;</td><td>20</td></tr><tr><td>2013-01-01 00:00:00</td><td>&quot;FOODS_1_004_TX…</td><td>&quot;FOODS_1_004&quot;</td><td>&quot;FOODS_1&quot;</td><td>&quot;FOODS&quot;</td><td>&quot;TX_2&quot;</td><td>&quot;TX&quot;</td><td>20</td></tr><tr><td>2013-01-01 00:00:00</td><td>&quot;FOODS_1_004_TX…</td><td>&quot;FOODS_1_004&quot;</td><td>&quot;FOODS_1&quot;</td><td>&quot;FOODS&quot;</td><td>&quot;TX_3&quot;</td><td>&quot;TX&quot;</td><td>4</td></tr><tr><td>2013-01-01 00:00:00</td><td>&quot;FOODS_1_005_TX…</td><td>&quot;FOODS_1_005&quot;</td><td>&quot;FOODS_1&quot;</td><td>&quot;FOODS&quot;</td><td>&quot;TX_2&quot;</td><td>&quot;TX&quot;</td><td>1</td></tr><tr><td>2013-01-01 00:00:00</td><td>&quot;FOODS_1_009_TX…</td><td>&quot;FOODS_1_009&quot;</td><td>&quot;FOODS_1&quot;</td><td>&quot;FOODS&quot;</td><td>&quot;TX_2&quot;</td><td>&quot;TX&quot;</td><td>3</td></tr></tbody></table></div>"
      ],
      "text/plain": [
       "shape: (5, 8)\n",
       "┌──────────────┬────────────────────┬─────────────┬─────────┬────────┬──────────┬──────────┬───────┐\n",
       "│ date         ┆ id                 ┆ item_id     ┆ dept_id ┆ cat_id ┆ store_id ┆ state_id ┆ sales │\n",
       "│ ---          ┆ ---                ┆ ---         ┆ ---     ┆ ---    ┆ ---      ┆ ---      ┆ ---   │\n",
       "│ datetime[ns] ┆ cat                ┆ str         ┆ str     ┆ str    ┆ str      ┆ str      ┆ i64   │\n",
       "╞══════════════╪════════════════════╪═════════════╪═════════╪════════╪══════════╪══════════╪═══════╡\n",
       "│ 2013-01-01   ┆ FOODS_1_004_TX_1_e ┆ FOODS_1_004 ┆ FOODS_1 ┆ FOODS  ┆ TX_1     ┆ TX       ┆ 20    │\n",
       "│ 00:00:00     ┆ valuation          ┆             ┆         ┆        ┆          ┆          ┆       │\n",
       "│ 2013-01-01   ┆ FOODS_1_004_TX_2_e ┆ FOODS_1_004 ┆ FOODS_1 ┆ FOODS  ┆ TX_2     ┆ TX       ┆ 20    │\n",
       "│ 00:00:00     ┆ valuation          ┆             ┆         ┆        ┆          ┆          ┆       │\n",
       "│ 2013-01-01   ┆ FOODS_1_004_TX_3_e ┆ FOODS_1_004 ┆ FOODS_1 ┆ FOODS  ┆ TX_3     ┆ TX       ┆ 4     │\n",
       "│ 00:00:00     ┆ valuation          ┆             ┆         ┆        ┆          ┆          ┆       │\n",
       "│ 2013-01-01   ┆ FOODS_1_005_TX_2_e ┆ FOODS_1_005 ┆ FOODS_1 ┆ FOODS  ┆ TX_2     ┆ TX       ┆ 1     │\n",
       "│ 00:00:00     ┆ valuation          ┆             ┆         ┆        ┆          ┆          ┆       │\n",
       "│ 2013-01-01   ┆ FOODS_1_009_TX_2_e ┆ FOODS_1_009 ┆ FOODS_1 ┆ FOODS  ┆ TX_2     ┆ TX       ┆ 3     │\n",
       "│ 00:00:00     ┆ valuation          ┆             ┆         ┆        ┆          ┆          ┆       │\n",
       "└──────────────┴────────────────────┴─────────────┴─────────┴────────┴──────────┴──────────┴───────┘"
      ]
     },
     "metadata": {},
     "output_type": "display_data"
    }
   ],
   "source": [
    "display(df_pl.head())"
   ]
  },
  {
   "cell_type": "code",
   "execution_count": 9,
   "metadata": {},
   "outputs": [
    {
     "data": {
      "text/html": [
       "<div><style>\n",
       ".dataframe > thead > tr > th,\n",
       ".dataframe > tbody > tr > td {\n",
       "  text-align: right;\n",
       "}\n",
       "</style>\n",
       "<small>shape: (5, 4)</small><table border=\"1\" class=\"dataframe\"><thead><tr><th>store_id</th><th>item_id</th><th>sell_price</th><th>date</th></tr><tr><td>str</td><td>str</td><td>f64</td><td>datetime[ns]</td></tr></thead><tbody><tr><td>&quot;TX_1&quot;</td><td>&quot;HOBBIES_1_001&quot;</td><td>9.58</td><td>2013-07-13 00:00:00</td></tr><tr><td>&quot;TX_1&quot;</td><td>&quot;HOBBIES_1_001&quot;</td><td>9.58</td><td>2013-07-14 00:00:00</td></tr><tr><td>&quot;TX_1&quot;</td><td>&quot;HOBBIES_1_001&quot;</td><td>9.58</td><td>2013-07-15 00:00:00</td></tr><tr><td>&quot;TX_1&quot;</td><td>&quot;HOBBIES_1_001&quot;</td><td>9.58</td><td>2013-07-16 00:00:00</td></tr><tr><td>&quot;TX_1&quot;</td><td>&quot;HOBBIES_1_001&quot;</td><td>9.58</td><td>2013-07-17 00:00:00</td></tr></tbody></table></div>"
      ],
      "text/plain": [
       "shape: (5, 4)\n",
       "┌──────────┬───────────────┬────────────┬─────────────────────┐\n",
       "│ store_id ┆ item_id       ┆ sell_price ┆ date                │\n",
       "│ ---      ┆ ---           ┆ ---        ┆ ---                 │\n",
       "│ str      ┆ str           ┆ f64        ┆ datetime[ns]        │\n",
       "╞══════════╪═══════════════╪════════════╪═════════════════════╡\n",
       "│ TX_1     ┆ HOBBIES_1_001 ┆ 9.58       ┆ 2013-07-13 00:00:00 │\n",
       "│ TX_1     ┆ HOBBIES_1_001 ┆ 9.58       ┆ 2013-07-14 00:00:00 │\n",
       "│ TX_1     ┆ HOBBIES_1_001 ┆ 9.58       ┆ 2013-07-15 00:00:00 │\n",
       "│ TX_1     ┆ HOBBIES_1_001 ┆ 9.58       ┆ 2013-07-16 00:00:00 │\n",
       "│ TX_1     ┆ HOBBIES_1_001 ┆ 9.58       ┆ 2013-07-17 00:00:00 │\n",
       "└──────────┴───────────────┴────────────┴─────────────────────┘"
      ]
     },
     "metadata": {},
     "output_type": "display_data"
    },
    {
     "data": {
      "text/html": [
       "<div><style>\n",
       ".dataframe > thead > tr > th,\n",
       ".dataframe > tbody > tr > td {\n",
       "  text-align: right;\n",
       "}\n",
       "</style>\n",
       "<small>shape: (5, 6)</small><table border=\"1\" class=\"dataframe\"><thead><tr><th>snap_TX</th><th>event_name_1</th><th>event_type_1</th><th>event_name_2</th><th>event_type_2</th><th>date</th></tr><tr><td>i64</td><td>str</td><td>str</td><td>str</td><td>str</td><td>datetime[ns]</td></tr></thead><tbody><tr><td>0</td><td>null</td><td>null</td><td>null</td><td>null</td><td>2011-01-29 00:00:00</td></tr><tr><td>0</td><td>null</td><td>null</td><td>null</td><td>null</td><td>2011-01-30 00:00:00</td></tr><tr><td>0</td><td>null</td><td>null</td><td>null</td><td>null</td><td>2011-01-31 00:00:00</td></tr><tr><td>1</td><td>null</td><td>null</td><td>null</td><td>null</td><td>2011-02-01 00:00:00</td></tr><tr><td>0</td><td>null</td><td>null</td><td>null</td><td>null</td><td>2011-02-02 00:00:00</td></tr></tbody></table></div>"
      ],
      "text/plain": [
       "shape: (5, 6)\n",
       "┌─────────┬──────────────┬──────────────┬──────────────┬──────────────┬─────────────────────┐\n",
       "│ snap_TX ┆ event_name_1 ┆ event_type_1 ┆ event_name_2 ┆ event_type_2 ┆ date                │\n",
       "│ ---     ┆ ---          ┆ ---          ┆ ---          ┆ ---          ┆ ---                 │\n",
       "│ i64     ┆ str          ┆ str          ┆ str          ┆ str          ┆ datetime[ns]        │\n",
       "╞═════════╪══════════════╪══════════════╪══════════════╪══════════════╪═════════════════════╡\n",
       "│ 0       ┆ null         ┆ null         ┆ null         ┆ null         ┆ 2011-01-29 00:00:00 │\n",
       "│ 0       ┆ null         ┆ null         ┆ null         ┆ null         ┆ 2011-01-30 00:00:00 │\n",
       "│ 0       ┆ null         ┆ null         ┆ null         ┆ null         ┆ 2011-01-31 00:00:00 │\n",
       "│ 1       ┆ null         ┆ null         ┆ null         ┆ null         ┆ 2011-02-01 00:00:00 │\n",
       "│ 0       ┆ null         ┆ null         ┆ null         ┆ null         ┆ 2011-02-02 00:00:00 │\n",
       "└─────────┴──────────────┴──────────────┴──────────────┴──────────────┴─────────────────────┘"
      ]
     },
     "metadata": {},
     "output_type": "display_data"
    }
   ],
   "source": [
    "prices_df_pl = pl.read_parquet('./00_project_2/project_2_data/prices.parquet')\n",
    "events_df_pl = pl.read_parquet('./00_project_2/project_2_data/calendar.parquet')\n",
    "\n",
    "display(prices_df_pl.head())\n",
    "display(events_df_pl.head())"
   ]
  },
  {
   "cell_type": "code",
   "execution_count": 10,
   "metadata": {},
   "outputs": [
    {
     "data": {
      "text/plain": [
       "[Datetime(time_unit='ns', time_zone=None),\n",
       " Categorical,\n",
       " Utf8,\n",
       " Utf8,\n",
       " Utf8,\n",
       " Utf8,\n",
       " Utf8,\n",
       " Int64]"
      ]
     },
     "execution_count": 10,
     "metadata": {},
     "output_type": "execute_result"
    }
   ],
   "source": [
    "df_pl.dtypes"
   ]
  },
  {
   "cell_type": "code",
   "execution_count": 11,
   "metadata": {},
   "outputs": [
    {
     "data": {
      "text/plain": [
       "iinfo(min=-128, max=127, dtype=int8)"
      ]
     },
     "execution_count": 11,
     "metadata": {},
     "output_type": "execute_result"
    }
   ],
   "source": [
    "np.iinfo(np.int8)"
   ]
  },
  {
   "cell_type": "code",
   "execution_count": 12,
   "metadata": {},
   "outputs": [
    {
     "data": {
      "text/html": [
       "<div><style>\n",
       ".dataframe > thead > tr > th,\n",
       ".dataframe > tbody > tr > td {\n",
       "  text-align: right;\n",
       "}\n",
       "</style>\n",
       "<small>shape: (1, 2)</small><table border=\"1\" class=\"dataframe\"><thead><tr><th>date</th><th>sales</th></tr><tr><td>datetime[ns]</td><td>i64</td></tr></thead><tbody><tr><td>2016-05-22 00:00:00</td><td>626</td></tr></tbody></table></div>"
      ],
      "text/plain": [
       "shape: (1, 2)\n",
       "┌─────────────────────┬───────┐\n",
       "│ date                ┆ sales │\n",
       "│ ---                 ┆ ---   │\n",
       "│ datetime[ns]        ┆ i64   │\n",
       "╞═════════════════════╪═══════╡\n",
       "│ 2016-05-22 00:00:00 ┆ 626   │\n",
       "└─────────────────────┴───────┘"
      ]
     },
     "execution_count": 12,
     "metadata": {},
     "output_type": "execute_result"
    }
   ],
   "source": [
    "(\n",
    "    df_pl\n",
    "    .select(pl.all().exclude(pl.Categorical, pl.Date, pl.Utf8))\n",
    "    .select(pl.all().max())\n",
    ")"
   ]
  },
  {
   "cell_type": "code",
   "execution_count": 13,
   "metadata": {},
   "outputs": [],
   "source": [
    "# %timeit\n",
    "df_pl = (\n",
    "    df_pl\n",
    "    .lazy()\n",
    "    .join(prices_df_pl.lazy(), on=['date', 'store_id', 'item_id'], how='left')\n",
    "    .join(events_df_pl.lazy(), on=['date'], how='left')\n",
    "    .with_columns(\n",
    "        pl.col('date').dt.date(),\n",
    "        pl.col('sales').cast(pl.Int16),\n",
    "        pl.col('sell_price').cast(pl.Int32),\n",
    "        pl.col(r'^snap.*$').cast(pl.Boolean),\n",
    "        pl.col(r'^event.*$').cast(pl.Categorical)\n",
    "    )\n",
    "    .collect(streaming=True)\n",
    ")"
   ]
  },
  {
   "cell_type": "code",
   "execution_count": 14,
   "metadata": {},
   "outputs": [
    {
     "data": {
      "text/plain": [
       "['__class__',\n",
       " '__delattr__',\n",
       " '__dict__',\n",
       " '__dir__',\n",
       " '__doc__',\n",
       " '__eq__',\n",
       " '__format__',\n",
       " '__ge__',\n",
       " '__getattribute__',\n",
       " '__gt__',\n",
       " '__hash__',\n",
       " '__init__',\n",
       " '__init_subclass__',\n",
       " '__le__',\n",
       " '__lt__',\n",
       " '__module__',\n",
       " '__ne__',\n",
       " '__new__',\n",
       " '__reduce__',\n",
       " '__reduce_ex__',\n",
       " '__repr__',\n",
       " '__setattr__',\n",
       " '__sizeof__',\n",
       " '__str__',\n",
       " '__subclasshook__',\n",
       " '__weakref__',\n",
       " '_accessor',\n",
       " '_pyexpr',\n",
       " 'max',\n",
       " 'min',\n",
       " 'sum',\n",
       " 'unique']"
      ]
     },
     "execution_count": 14,
     "metadata": {},
     "output_type": "execute_result"
    }
   ],
   "source": [
    "dir(pl.col('*').arr)"
   ]
  },
  {
   "cell_type": "code",
   "execution_count": 113,
   "metadata": {},
   "outputs": [],
   "source": [
    "from sklearn.preprocessing import OrdinalEncoder\n",
    "\n",
    "data = df_pl\n",
    "\n",
    "def feature_engineering(data, by_day_of_week=False):\n",
    "\n",
    "    df = data.clone()\n",
    "    \n",
    "    group_cols = ['id']\n",
    "    if by_day_of_week: group_cols.append('day_of_week')\n",
    "    \n",
    "    cont_feats = [] \n",
    "    cat_feats = ['id','item_id','dept_id','cat_id','store_id','state_id',\n",
    "                 'snap_TX',\n",
    "                 'event_name_1','event_name_2', \n",
    "                 'event_type_1', 'event_type_2']\n",
    "    \n",
    "    lags = [7, 30, 90]\n",
    "    rolling_features = [7, 30 ,90]\n",
    "    \n",
    "    # Date features\n",
    "    df = (\n",
    "        df\n",
    "        .lazy()\n",
    "        .with_columns(\n",
    "            pl.col('date').dt.weekday().alias('day_of_week'),\n",
    "            pl.col('date').dt.month().alias('month'),\n",
    "            pl.col('date').dt.year().alias('year'),\n",
    "            pl.col('date').dt.day().alias('day_of_month')\n",
    "        )\n",
    "        .collect(streaming=True)\n",
    "    )\n",
    "    \n",
    "    cont_feats += ['day_of_week', 'day_of_month', 'month', 'year']\n",
    "    \n",
    "    # Shift sales & sell_price\n",
    "    df = (\n",
    "            df\n",
    "            .lazy()\n",
    "            .with_columns(\n",
    "                pl.col('sales')\n",
    "                .shift(periods=28)\n",
    "                .over(pl.col('id')),\n",
    "                \n",
    "                pl.col('sell_price')\n",
    "                .shift(periods=28)\n",
    "                .over(pl.col('id'))\n",
    "            )\n",
    "            .collect(streaming=True)\n",
    "        )\n",
    "    \n",
    "    \n",
    "    # Calculate lag features\n",
    "    for lag in lags:\n",
    "        \n",
    "        lag_feature = f\"lag_{lag}_{28}\"\n",
    "        \n",
    "        df = (\n",
    "            df\n",
    "            .lazy()\n",
    "            .with_columns(\n",
    "                pl.col('sales')\n",
    "                .shift(periods=lag)\n",
    "                .over(pl.col('id'))\n",
    "                .alias(lag_feature)\n",
    "            )\n",
    "            .collect(streaming=True)\n",
    "        )\n",
    "        \n",
    "        cont_feats.append(lag_feature)\n",
    "        \n",
    "    \n",
    "    # df_rolling = df.clone().select(pl.col(['date', 'sales'] + group_cols))\n",
    "    for rolling_feature in rolling_features:\n",
    "        \n",
    "        rolling_mean_feature = f\"seasonal_rolling_mean_{rolling_feature}\" if by_day_of_week else f\"rolling_mean_{rolling_feature}_{28}\"\n",
    "        \n",
    "        rolling_std_feature = f\"seasonal_rolling_std_{rolling_feature}\" if by_day_of_week else f\"rolling_std_{rolling_feature}_{28}\"\n",
    "        \n",
    "        df = (\n",
    "            df\n",
    "            .lazy()\n",
    "            .with_columns(\n",
    "                pl.col('sales')\n",
    "                .rolling_mean(\n",
    "                    window_size=rolling_feature, \n",
    "                    min_periods=1, \n",
    "                    closed='right'\n",
    "                )\n",
    "                .over(group_cols)\n",
    "                .alias(rolling_mean_feature),\n",
    "                \n",
    "                pl.col('sales')\n",
    "                .rolling_std(\n",
    "                    window_size=rolling_feature, \n",
    "                    min_periods=1, \n",
    "                    closed='right'\n",
    "                )\n",
    "                .over(group_cols)\n",
    "                .alias(rolling_std_feature)\n",
    "            )\n",
    "            .collect(streaming=True)\n",
    "        )\n",
    "        \n",
    "        cont_feats += [rolling_mean_feature, rolling_std_feature]\n",
    "    \n",
    "    enc_cat_feats = [f'{feat}_enc' for feat in cat_feats] \n",
    "    \n",
    "    df[enc_cat_feats] = OrdinalEncoder().fit_transform(df[cat_feats])\n",
    "    \n",
    "    train = (df\n",
    "            #  .lazy()\n",
    "             .filter(pl.col('date') < (pl.col('date').max() - pl.duration(days=28)))\n",
    "            #  .collect(streaming=True)\n",
    "             )\n",
    "    \n",
    "    val = (df\n",
    "        #    .lazy()\n",
    "           .filter(pl.col('date') >= (pl.col('date').max() - pl.duration(days=28)))\n",
    "        #    .collect(streaming=True)\n",
    "           )\n",
    "    \n",
    "    # Price features\n",
    "    train = (\n",
    "        train\n",
    "        .lazy()\n",
    "        .with_columns(\n",
    "            pl.col('sell_price').mean().over(pl.col('item_id')).alias('avg_sell_price_by_item_id'),\n",
    "            pl.col('sell_price').max().over(pl.col('item_id')).alias('max_sell_price_by_item_id'),\n",
    "            pl.col('sell_price').min().over(pl.col('item_id')).alias('min_sell_price_by_item_id'),\n",
    "            pl.col('sell_price').mean().over(pl.col('dept_id')).alias('avg_sell_price_by_dept_id'),\n",
    "            pl.col('sell_price').max().over(pl.col('dept_id')).alias('max_sell_price_by_dept_id'),\n",
    "            pl.col('sell_price').min().over(pl.col('dept_id')).alias('min_sell_price_by_dept_id'),\n",
    "            pl.col('sell_price').mean().over(pl.col('cat_id')).alias('avg_sell_price_by_cat_id'),\n",
    "            pl.col('sell_price').max().over(pl.col('cat_id')).alias('max_sell_price_by_cat_id'),\n",
    "            pl.col('sell_price').min().over(pl.col('cat_id')).alias('min_sell_price_by_cat_id')\n",
    "        )\n",
    "        .collect(streaming=True)\n",
    "    )\n",
    "    \n",
    "    cont_feats += (['avg_sell_price_by_item_id', \n",
    "                       'max_sell_price_by_item_id', \n",
    "                       'min_sell_price_by_item_id',\n",
    "                       'avg_sell_price_by_dept_id',\n",
    "                       'max_sell_price_by_dept_id',\n",
    "                       'min_sell_price_by_dept_id',\n",
    "                       'avg_sell_price_by_cat_id',\n",
    "                       'max_sell_price_by_cat_id',\n",
    "                       'min_sell_price_by_cat_id'])\n",
    "    \n",
    "    # Agg features\n",
    "    train = (\n",
    "        train\n",
    "        .lazy()\n",
    "        .with_columns(\n",
    "            pl.col('sales').mean().over(pl.col('item_id')).alias('avg_sales_price_by_item_id'),\n",
    "            pl.col('sales').max().over(pl.col('item_id')).alias('max_sales_price_by_item_id'),\n",
    "            pl.col('sales').min().over(pl.col('item_id')).alias('min_sales_price_by_item_id'),\n",
    "            pl.col('sales').mean().over(pl.col('dept_id')).alias('avg_sales_price_by_dept_id'),\n",
    "            pl.col('sales').max().over(pl.col('dept_id')).alias('max_sales_price_by_dept_id'),\n",
    "            pl.col('sales').min().over(pl.col('dept_id')).alias('min_sales_price_by_dept_id'),\n",
    "            pl.col('sales').mean().over(pl.col('cat_id')).alias('avg_sales_price_by_cat_id'),\n",
    "            pl.col('sales').max().over(pl.col('cat_id')).alias('max_sales_price_by_cat_id'),\n",
    "            pl.col('sales').min().over(pl.col('cat_id')).alias('min_sales_price_by_cat_id')\n",
    "\n",
    "        )\n",
    "        .collect(streaming=True)\n",
    "    )\n",
    "    \n",
    "    cont_feats += (['avg_sales_price_by_item_id',\n",
    "                       'max_sales_price_by_item_id',\n",
    "                       'min_sales_price_by_item_id',\n",
    "                       'avg_sales_price_by_dept_id',\n",
    "                       'max_sales_price_by_dept_id',\n",
    "                       'min_sales_price_by_dept_id',\n",
    "                       'avg_sales_price_by_cat_id',\n",
    "                       'max_sales_price_by_cat_id',\n",
    "                       'min_sales_price_by_cat_id'])\n",
    "    \n",
    "    train_cols_to_include = (['id'] + \n",
    "    \n",
    "                            ['avg_sell_price_by_item_id', \n",
    "                            'max_sell_price_by_item_id', \n",
    "                            'min_sell_price_by_item_id',\n",
    "                            'avg_sell_price_by_dept_id',\n",
    "                            'max_sell_price_by_dept_id',\n",
    "                            'min_sell_price_by_dept_id',\n",
    "                            'avg_sell_price_by_cat_id',\n",
    "                            'max_sell_price_by_cat_id',\n",
    "                            'min_sell_price_by_cat_id'] +\n",
    "                            \n",
    "                            ['avg_sales_price_by_item_id',\n",
    "                            'max_sales_price_by_item_id',\n",
    "                            'min_sales_price_by_item_id',\n",
    "                            'avg_sales_price_by_dept_id',\n",
    "                            'max_sales_price_by_dept_id',\n",
    "                            'min_sales_price_by_dept_id',\n",
    "                            'avg_sales_price_by_cat_id',\n",
    "                            'max_sales_price_by_cat_id',\n",
    "                            'min_sales_price_by_cat_id'])\n",
    "                                \n",
    "    val = (\n",
    "        val\n",
    "        .lazy()\n",
    "        .join(train\n",
    "              .lazy()\n",
    "              .select(pl.col(train_cols_to_include))\n",
    "              .unique(), \n",
    "              on=['id'], \n",
    "              how='left', \n",
    "              suffix='_val')\n",
    "        .collect(streaming=True)\n",
    "    )\n",
    "    \n",
    "    features = []\n",
    "    features = cont_feats + enc_cat_feats\n",
    "    \n",
    "    return train, val, features"
   ]
  },
  {
   "cell_type": "code",
   "execution_count": 114,
   "metadata": {},
   "outputs": [],
   "source": [
    "train, val, features = feature_engineering(df_pl)"
   ]
  },
  {
   "cell_type": "code",
   "execution_count": 144,
   "metadata": {},
   "outputs": [],
   "source": [
    "train = (\n",
    "    train\n",
    "    .lazy()\n",
    "    .with_columns(pl.col('sales').is_null().alias('is_null_sales'))\n",
    "    .filter(pl.col('is_null_sales') == False)\n",
    "    .collect(streaming=True)\n",
    ")"
   ]
  },
  {
   "cell_type": "code",
   "execution_count": 145,
   "metadata": {},
   "outputs": [
    {
     "data": {
      "text/plain": [
       "(3528888, 57)"
      ]
     },
     "metadata": {},
     "output_type": "display_data"
    },
    {
     "data": {
      "text/plain": [
       "(111135, 56)"
      ]
     },
     "metadata": {},
     "output_type": "display_data"
    },
    {
     "data": {
      "text/plain": [
       "['day_of_week',\n",
       " 'day_of_month',\n",
       " 'month',\n",
       " 'year',\n",
       " 'lag_7_28',\n",
       " 'lag_30_28',\n",
       " 'lag_90_28',\n",
       " 'rolling_mean_7_28',\n",
       " 'rolling_std_7_28',\n",
       " 'rolling_mean_30_28',\n",
       " 'rolling_std_30_28',\n",
       " 'rolling_mean_90_28',\n",
       " 'rolling_std_90_28',\n",
       " 'avg_sell_price_by_item_id',\n",
       " 'max_sell_price_by_item_id',\n",
       " 'min_sell_price_by_item_id',\n",
       " 'avg_sell_price_by_dept_id',\n",
       " 'max_sell_price_by_dept_id',\n",
       " 'min_sell_price_by_dept_id',\n",
       " 'avg_sell_price_by_cat_id',\n",
       " 'max_sell_price_by_cat_id',\n",
       " 'min_sell_price_by_cat_id',\n",
       " 'avg_sales_price_by_item_id',\n",
       " 'max_sales_price_by_item_id',\n",
       " 'min_sales_price_by_item_id',\n",
       " 'avg_sales_price_by_dept_id',\n",
       " 'max_sales_price_by_dept_id',\n",
       " 'min_sales_price_by_dept_id',\n",
       " 'avg_sales_price_by_cat_id',\n",
       " 'max_sales_price_by_cat_id',\n",
       " 'min_sales_price_by_cat_id',\n",
       " 'id_enc',\n",
       " 'item_id_enc',\n",
       " 'dept_id_enc',\n",
       " 'cat_id_enc',\n",
       " 'store_id_enc',\n",
       " 'state_id_enc',\n",
       " 'snap_TX_enc',\n",
       " 'event_name_1_enc',\n",
       " 'event_name_2_enc',\n",
       " 'event_type_1_enc',\n",
       " 'event_type_2_enc']"
      ]
     },
     "metadata": {},
     "output_type": "display_data"
    }
   ],
   "source": [
    "# feature_engineering(data)\n",
    "\n",
    "display(train.shape)\n",
    "display(val.shape)\n",
    "display(features)"
   ]
  },
  {
   "cell_type": "code",
   "execution_count": 146,
   "metadata": {},
   "outputs": [],
   "source": [
    "train = train.to_pandas().set_index(['date', 'id'])\n",
    "val = val.to_pandas().set_index(['date', 'id'])   "
   ]
  },
  {
   "cell_type": "code",
   "execution_count": 147,
   "metadata": {},
   "outputs": [
    {
     "name": "stdout",
     "output_type": "stream",
     "text": [
      "[LightGBM] [Warning] Auto-choosing row-wise multi-threading, the overhead of testing was 0.095585 seconds.\n",
      "You can set `force_row_wise=true` to remove the overhead.\n",
      "And if memory is not enough, you can set `force_col_wise=true`.\n",
      "[LightGBM] [Info] Total Bins 3236\n",
      "[LightGBM] [Info] Number of data points in the train set: 3528888, number of used features: 37\n",
      "[LightGBM] [Info] Start training from score 1.224527\n",
      "Training until validation scores don't improve for 100 rounds\n",
      "[50]\tvalid_0's tweedie: 28.9616\n",
      "[100]\tvalid_0's tweedie: 28.9472\n",
      "[150]\tvalid_0's tweedie: 28.9429\n",
      "[200]\tvalid_0's tweedie: 28.9402\n",
      "[250]\tvalid_0's tweedie: 28.9392\n",
      "[300]\tvalid_0's tweedie: 28.9385\n",
      "[350]\tvalid_0's tweedie: 28.9381\n",
      "[400]\tvalid_0's tweedie: 28.9378\n",
      "[450]\tvalid_0's tweedie: 28.9376\n",
      "[500]\tvalid_0's tweedie: 28.9374\n",
      "[550]\tvalid_0's tweedie: 28.9373\n",
      "[600]\tvalid_0's tweedie: 28.9371\n",
      "[650]\tvalid_0's tweedie: 28.937\n",
      "[700]\tvalid_0's tweedie: 28.9369\n",
      "[750]\tvalid_0's tweedie: 28.9368\n",
      "[800]\tvalid_0's tweedie: 28.9368\n",
      "[850]\tvalid_0's tweedie: 28.9368\n",
      "[900]\tvalid_0's tweedie: 28.9367\n",
      "[950]\tvalid_0's tweedie: 28.9366\n",
      "[1000]\tvalid_0's tweedie: 28.9366\n",
      "Did not meet early stopping. Best iteration is:\n",
      "[1000]\tvalid_0's tweedie: 28.9366\n"
     ]
    }
   ],
   "source": [
    "import lightgbm as lgb\n",
    "\n",
    "# some parameters to play around with. Not the best by any means!\n",
    "params = dict(\n",
    "    objective='tweedie',\n",
    "    tweedie_variance_power=1.1,\n",
    "    learning_rate=0.05,\n",
    "    min_samples_leaf=100,\n",
    "    subsample=0.3,\n",
    "    feature_fraction=0.3,\n",
    "    deterministic=True,\n",
    ")\n",
    "\n",
    "# train, val, features = feature_engineering(data)\n",
    "\n",
    "train_dset = lgb.Dataset(\n",
    "    train[features], \n",
    "    train['sales'],\n",
    ")\n",
    "\n",
    "val_dset = lgb.Dataset(\n",
    "    val[features], \n",
    "    val['sales'],\n",
    ")\n",
    "\n",
    "callbacks = [\n",
    "    lgb.early_stopping(100),\n",
    "    lgb.log_evaluation(50)\n",
    "]\n",
    "\n",
    "model = lgb.train(\n",
    "    params, \n",
    "    train_dset,\n",
    "    num_boost_round=1000,\n",
    "    valid_sets=[val_dset],\n",
    "    callbacks=callbacks,\n",
    ")\n",
    "\n",
    "preds = model.predict(val[features])"
   ]
  },
  {
   "cell_type": "code",
   "execution_count": 148,
   "metadata": {},
   "outputs": [
    {
     "data": {
      "text/plain": [
       "<Axes: title={'center': 'Feature importance'}, xlabel='Feature importance', ylabel='Features'>"
      ]
     },
     "execution_count": 148,
     "metadata": {},
     "output_type": "execute_result"
    },
    {
     "data": {
      "image/png": "[encoded data removed]",
      "text/plain": [
       "<Figure size 1000x2000 with 1 Axes>"
      ]
     },
     "metadata": {},
     "output_type": "display_data"
    }
   ],
   "source": [
    "lgb.plot_importance(model, importance_type='auto', figsize=(10, 20), max_num_features=100)"
   ]
  },
  {
   "cell_type": "code",
   "execution_count": 149,
   "metadata": {},
   "outputs": [],
   "source": [
    "# QUESTION: implement rmsse\n",
    "\n",
    "def rmsse(train, val, y_pred):\n",
    "    \n",
    "    n = train.index.get_level_values('id').value_counts().unique()[0]\n",
    "    h = val.index.get_level_values('id').value_counts().unique()[0]\n",
    "    dof = 1 / (n-1)\n",
    "    \n",
    "    train_df = (\n",
    "        train\n",
    "        .groupby('id', group_keys=True)\n",
    "        .apply(lambda df: np.sum((df.sales - df.sales.shift(1)) ** 2))\n",
    "        .rename('mse_naive')\n",
    "        .to_frame()\n",
    "        .query('mse_naive > 0')\n",
    "    )\n",
    "    \n",
    "    val_df = ((val.sales - preds)**2).rename('mse_val').to_frame().reset_index().drop('date', axis=1).groupby('id').sum()\n",
    "    \n",
    "    rmsse_df = (\n",
    "        train_df\n",
    "        .merge(val_df, on='id', how='left')\n",
    "        .assign(\n",
    "            denominator = lambda df: df.mse_naive * dof,\n",
    "            numerator   = lambda df: df.mse_val / h\n",
    "        )\n",
    "        .assign(rmsse = lambda df: np.sqrt(df.numerator / df.denominator))\n",
    "        .drop(['mse_naive', 'mse_val', 'denominator', 'numerator'], axis=1)\n",
    "    )\n",
    "    \n",
    "    overall_rmsse = rmsse_df.rmsse.mean(skipna=True)\n",
    "    \n",
    "    return rmsse_df, overall_rmsse"
   ]
  },
  {
   "cell_type": "code",
   "execution_count": 150,
   "metadata": {},
   "outputs": [
    {
     "data": {
      "text/html": [
       "<div>\n",
       "<style scoped>\n",
       "    .dataframe tbody tr th:only-of-type {\n",
       "        vertical-align: middle;\n",
       "    }\n",
       "\n",
       "    .dataframe tbody tr th {\n",
       "        vertical-align: top;\n",
       "    }\n",
       "\n",
       "    .dataframe thead th {\n",
       "        text-align: right;\n",
       "    }\n",
       "</style>\n",
       "<table border=\"1\" class=\"dataframe\">\n",
       "  <thead>\n",
       "    <tr style=\"text-align: right;\">\n",
       "      <th></th>\n",
       "      <th>rmsse</th>\n",
       "    </tr>\n",
       "    <tr>\n",
       "      <th>id</th>\n",
       "      <th></th>\n",
       "    </tr>\n",
       "  </thead>\n",
       "  <tbody>\n",
       "    <tr>\n",
       "      <th>FOODS_1_001_TX_1_evaluation</th>\n",
       "      <td>1.153061</td>\n",
       "    </tr>\n",
       "    <tr>\n",
       "      <th>FOODS_1_001_TX_2_evaluation</th>\n",
       "      <td>1.416487</td>\n",
       "    </tr>\n",
       "    <tr>\n",
       "      <th>FOODS_1_001_TX_3_evaluation</th>\n",
       "      <td>0.264837</td>\n",
       "    </tr>\n",
       "    <tr>\n",
       "      <th>FOODS_1_002_TX_1_evaluation</th>\n",
       "      <td>0.206343</td>\n",
       "    </tr>\n",
       "    <tr>\n",
       "      <th>FOODS_1_002_TX_2_evaluation</th>\n",
       "      <td>0.387166</td>\n",
       "    </tr>\n",
       "    <tr>\n",
       "      <th>...</th>\n",
       "      <td>...</td>\n",
       "    </tr>\n",
       "    <tr>\n",
       "      <th>HOUSEHOLD_2_515_TX_2_evaluation</th>\n",
       "      <td>3.264675</td>\n",
       "    </tr>\n",
       "    <tr>\n",
       "      <th>HOUSEHOLD_2_515_TX_3_evaluation</th>\n",
       "      <td>0.002023</td>\n",
       "    </tr>\n",
       "    <tr>\n",
       "      <th>HOUSEHOLD_2_516_TX_1_evaluation</th>\n",
       "      <td>0.000000</td>\n",
       "    </tr>\n",
       "    <tr>\n",
       "      <th>HOUSEHOLD_2_516_TX_2_evaluation</th>\n",
       "      <td>0.144307</td>\n",
       "    </tr>\n",
       "    <tr>\n",
       "      <th>HOUSEHOLD_2_516_TX_3_evaluation</th>\n",
       "      <td>1.395648</td>\n",
       "    </tr>\n",
       "  </tbody>\n",
       "</table>\n",
       "<p>9070 rows × 1 columns</p>\n",
       "</div>"
      ],
      "text/plain": [
       "                                    rmsse\n",
       "id                                       \n",
       "FOODS_1_001_TX_1_evaluation      1.153061\n",
       "FOODS_1_001_TX_2_evaluation      1.416487\n",
       "FOODS_1_001_TX_3_evaluation      0.264837\n",
       "FOODS_1_002_TX_1_evaluation      0.206343\n",
       "FOODS_1_002_TX_2_evaluation      0.387166\n",
       "...                                   ...\n",
       "HOUSEHOLD_2_515_TX_2_evaluation  3.264675\n",
       "HOUSEHOLD_2_515_TX_3_evaluation  0.002023\n",
       "HOUSEHOLD_2_516_TX_1_evaluation  0.000000\n",
       "HOUSEHOLD_2_516_TX_2_evaluation  0.144307\n",
       "HOUSEHOLD_2_516_TX_3_evaluation  1.395648\n",
       "\n",
       "[9070 rows x 1 columns]"
      ]
     },
     "metadata": {},
     "output_type": "display_data"
    },
    {
     "name": "stdout",
     "output_type": "stream",
     "text": [
      "Overall RMSSE: 0.6891476782763135\n"
     ]
    }
   ],
   "source": [
    "rmsse_df, overall_rmsse = rmsse(train, val, preds)\n",
    "\n",
    "display(rmsse_df)\n",
    "print(f\"Overall RMSSE: {overall_rmsse}\")"
   ]
  }
 ],
 "metadata": {
  "kernelspec": {
   "display_name": "ts-tenenholtz",
   "language": "python",
   "name": "python3"
  },
  "language_info": {
   "codemirror_mode": {
    "name": "ipython",
    "version": 3
   },
   "file_extension": ".py",
   "mimetype": "text/x-python",
   "name": "python",
   "nbconvert_exporter": "python",
   "pygments_lexer": "ipython3",
   "version": "3.10.11"
  },
  "orig_nbformat": 4
 },
 "nbformat": 4,
 "nbformat_minor": 2
}
